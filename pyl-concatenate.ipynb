{
 "cells": [
  {
   "cell_type": "code",
   "execution_count": 1,
   "id": "e1c0eabc-f67f-43b9-b7d6-d7e229f18514",
   "metadata": {},
   "outputs": [],
   "source": [
    "import pandas as pd\n",
    "import os\n",
    "import shutil\n",
    "import gzip\n",
    "import glob\n",
    "import csv\n",
    "import numpy as np\n",
    "from ete3 import Tree\n",
    "from Bio import SeqIO"
   ]
  },
  {
   "cell_type": "code",
   "execution_count": 21,
   "id": "1d12bd71-8784-4077-a725-c5fc9fbc8628",
   "metadata": {},
   "outputs": [
    {
     "data": {
      "text/plain": [
       "'/Users/katharineshalvarjian/Documents/gtdb/1-pyl/pyl_users'"
      ]
     },
     "execution_count": 21,
     "metadata": {},
     "output_type": "execute_result"
    }
   ],
   "source": [
    "pwd"
   ]
  },
  {
   "cell_type": "markdown",
   "id": "1fbc8b75-2d32-4e3d-b889-7fc4eb734a18",
   "metadata": {},
   "source": [
    "### 1. Generate hit list \n",
    "Make lists of locus ID's for hits for genes of interest (pylRS, comprised of pylS, pylSn, and pylSc, and pylBCD). Note that we exclude pylT since it is a nucleotide sequence instead of amino acid sequence."
   ]
  },
  {
   "cell_type": "code",
   "execution_count": 23,
   "id": "7897b833-1b91-48a6-88b8-d192c551f57c",
   "metadata": {},
   "outputs": [],
   "source": [
    "# load in strict pyl csv (hits for all three pylB, pylC, pylD)\n",
    "df = pd.read_csv('../../analysis_files/2024-10-28_pyl-users_STRICT.csv', sep=',')\n",
    "pyl = df['genome'].tolist()"
   ]
  },
  {
   "cell_type": "code",
   "execution_count": 8,
   "id": "05f99fa5-f3c7-4059-b900-20ff7ac933c0",
   "metadata": {},
   "outputs": [],
   "source": [
    "# pull individual gene sequences from bulk seq out\n",
    "genes = ['pylB', 'pylC', 'pylD']\n",
    "df_reference = pd.read_csv('../../archaea_info/ar53_metadata_tax.csv', sep=',')\n",
    "taxonomy_mapping = dict(zip(df_reference['mod_accession'], df_reference['gtdb_taxonomy'].apply(lambda x: x.split('s__')[-1])))\n",
    "\n",
    "for gene in genes: \n",
    "    with open(f\"./{gene}_parse.fa\", 'w') as g: \n",
    "        for genome in genomes: \n",
    "            for record in SeqIO.parse(f\"./seq/{gene}_seq.fa\", 'fasta'):\n",
    "                if record.id[:15] == genome: \n",
    "                    common = '_'.join(taxonomy_mapping[record.id[:15]].split(' '))\n",
    "                    g.writelines(f\">{common}\\n{record.seq}\\n\")"
   ]
  },
  {
   "cell_type": "code",
   "execution_count": 16,
   "id": "95ff4070-e7ae-442d-a01d-b7e14ac0e980",
   "metadata": {},
   "outputs": [
    {
     "name": "stdout",
     "output_type": "stream",
     "text": [
      "102\n"
     ]
    }
   ],
   "source": [
    "genomes = []\n",
    "for record in SeqIO.parse('../concat_trees/plus_anme/pylB_parse.fa', 'fasta'): \n",
    "    genomes.append(record.id)\n",
    "\n",
    "print(len(genomes))\n"
   ]
  },
  {
   "cell_type": "markdown",
   "id": "2012196c-2e15-43d0-ab6e-2a908c095c0d",
   "metadata": {},
   "source": [
    "### 2. Concatenate \n",
    "We first aligned all sequences using MAFFT and trimmed the alignments with TrimAl to 90% column occupancy. Then, we concatenated the alignments for the biosynthetic machinery (pylBCD) and the incoporation machinery (pylRS) below."
   ]
  },
  {
   "cell_type": "code",
   "execution_count": 18,
   "id": "5a2ab052-da84-4501-9889-213d092e82c8",
   "metadata": {},
   "outputs": [],
   "source": [
    "# concatenate pylBCD alignments with each other\n",
    "genes = ['pylB', 'pylC', 'pylD']\n",
    "with open('../concat_trees/plus_anme/trimal-0.9_pylBCD.fa', 'w') as f: \n",
    "    for genome in genomes:\n",
    "        f.writelines(f\">{genome}\\n\")\n",
    "        for gene in genes: \n",
    "            for record in SeqIO.parse(f\"../concat_trees/plus_anme/trimal-0.9_mafft_{gene}_parse.fa\", 'fasta'):\n",
    "                if record.id == genome:\n",
    "                    f.writelines(f\"{record.seq}\\n\")"
   ]
  },
  {
   "cell_type": "code",
   "execution_count": 18,
   "id": "e7aca641-ba00-46f1-96db-5385248f90d8",
   "metadata": {},
   "outputs": [],
   "source": [
    "# concatenate pylRS sequences\n",
    "genes = ['pylS', 'pylSc', 'pylSnSc']\n",
    "with open('./pylS_comp.fa', 'w') as f: \n",
    "    for gene in genes: \n",
    "        for record in SeqIO.parse(f\"./seq/{gene}_seq.fa\", 'fasta'):\n",
    "            if record.id[:15] in genomes:\n",
    "                f.writelines(f\">{record.id[:15]}\\n{record.seq}\\n\")"
   ]
  },
  {
   "cell_type": "code",
   "execution_count": 43,
   "id": "78249e23-c52b-4467-804c-00f4989df3a3",
   "metadata": {},
   "outputs": [],
   "source": [
    "# define a sequence counting function to make sure that output is the same as the input\n",
    "def seq_counter(file):\n",
    "    with open(file, 'r') as f: \n",
    "        i=0\n",
    "        for line in f: \n",
    "            if '>' in line: \n",
    "                i+=1\n",
    "        print(i)"
   ]
  },
  {
   "cell_type": "markdown",
   "id": "3c261ec7-9b5f-4c9a-b441-c6e1f1f41a72",
   "metadata": {},
   "source": [
    "### 3. Rename sequences \n",
    "Since we use Dendroscope to assemble the tanglegrams, we renamed all of the sequences to their species name using a taxonomy converting dictionary (below)"
   ]
  },
  {
   "cell_type": "code",
   "execution_count": 49,
   "id": "b8afa40d-0744-4d29-b019-307f06869d8e",
   "metadata": {},
   "outputs": [],
   "source": [
    "file = './pylBCD_seq.fa'\n",
    "df_reference = pd.read_csv('../../archaea_info/ar53_metadata_tax.csv', sep=',')\n",
    "taxonomy_mapping = dict(zip(df_reference['mod_accession'], df_reference['gtdb_taxonomy'].apply(lambda x: x.split('s__')[-1])))\n",
    "\n",
    "with open(f\"{file.strip().split('/')[1].split('.fa')[0]}_genomes2.fa\", 'w') as f:\n",
    "    for record in SeqIO.parse(file, 'fasta'):\n",
    "        genome = '_'.join(taxonomy_mapping[record.id].split(' '))\n",
    "        f.writelines(f\">{genome}\\n{record.seq}\\n\")\n",
    "        "
   ]
  }
 ],
 "metadata": {
  "kernelspec": {
   "display_name": "Python 3 (ipykernel)",
   "language": "python",
   "name": "python3"
  },
  "language_info": {
   "codemirror_mode": {
    "name": "ipython",
    "version": 3
   },
   "file_extension": ".py",
   "mimetype": "text/x-python",
   "name": "python",
   "nbconvert_exporter": "python",
   "pygments_lexer": "ipython3",
   "version": "3.11.8"
  }
 },
 "nbformat": 4,
 "nbformat_minor": 5
}
