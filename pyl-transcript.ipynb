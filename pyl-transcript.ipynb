{
 "cells": [
  {
   "cell_type": "code",
   "execution_count": 3,
   "id": "358e3f33-f75f-408b-8436-bca6c57bb417",
   "metadata": {},
   "outputs": [],
   "source": [
    "import glob\n",
    "import pandas as pd\n",
    "import matplotlib.pyplot as plt\n",
    "import scipy.stats as stats\n",
    "import numpy as np\n",
    "import seaborn as sns\n",
    "import scipy\n",
    "from Bio import SeqIO"
   ]
  },
  {
   "cell_type": "code",
   "execution_count": 4,
   "id": "9ff24f45-2376-44ac-9b6f-e2a15dfa86ae",
   "metadata": {},
   "outputs": [
    {
     "data": {
      "text/plain": [
       "'/Users/katharineshalvarjian/Documents/gtdb/3-notebooks'"
      ]
     },
     "execution_count": 4,
     "metadata": {},
     "output_type": "execute_result"
    }
   ],
   "source": [
    "pwd"
   ]
  },
  {
   "cell_type": "markdown",
   "id": "1ff0882c-7854-4462-a670-e7f23fd053ff",
   "metadata": {},
   "source": [
    "### 1. Make dataframes of FPKM values for UAG-containing hits and the Pyl machinery \n",
    "genomic_out.tsv is a table containing all hits of TAG containing genes generated using our pyl_id.py script. Using the locus ID's from this hit matrix, we filter the expression_matrix from the RNA-Seq experiments to include only those hits. Note that the expression matrix represents the log2(FPKM) value. "
   ]
  },
  {
   "cell_type": "code",
   "execution_count": 5,
   "id": "8263b5b5-1a3b-4d52-aec0-edba6fe0f641",
   "metadata": {},
   "outputs": [],
   "source": [
    "hits = pd.read_csv('../test/genome_extension/genomic_out.tsv', sep='\\t')\n",
    "genes = hits['gene'].tolist()"
   ]
  },
  {
   "cell_type": "code",
   "execution_count": 7,
   "id": "2e7b5e08-7a5e-49d2-83c5-deab6376569a",
   "metadata": {},
   "outputs": [],
   "source": [
    "# load in expression matrix\n",
    "transcripts = pd.read_excel('../../expression_matrix.xlsx')"
   ]
  },
  {
   "cell_type": "code",
   "execution_count": 8,
   "id": "c2f4df58-4444-4523-b7e8-0eda3f2fab00",
   "metadata": {},
   "outputs": [
    {
     "name": "stdout",
     "output_type": "stream",
     "text": [
      "(241, 13)\n"
     ]
    },
    {
     "data": {
      "text/html": [
       "<div>\n",
       "<style scoped>\n",
       "    .dataframe tbody tr th:only-of-type {\n",
       "        vertical-align: middle;\n",
       "    }\n",
       "\n",
       "    .dataframe tbody tr th {\n",
       "        vertical-align: top;\n",
       "    }\n",
       "\n",
       "    .dataframe thead th {\n",
       "        text-align: right;\n",
       "    }\n",
       "</style>\n",
       "<table border=\"1\" class=\"dataframe\">\n",
       "  <thead>\n",
       "    <tr style=\"text-align: right;\">\n",
       "      <th></th>\n",
       "      <th>feature_ids</th>\n",
       "      <th>WWM60_TMA_Rep1_expression</th>\n",
       "      <th>WWM60_TMA_Rep2_expression</th>\n",
       "      <th>WWM60_TMA_Rep3_expression</th>\n",
       "      <th>WWM60_MeOH_Rep1_expression</th>\n",
       "      <th>WWM60_MeOH_Rep2_expression</th>\n",
       "      <th>WWM60_MeOH_Rep3_expression</th>\n",
       "      <th>DDN121_Rep1_expression</th>\n",
       "      <th>DDN121_Rep2_expression</th>\n",
       "      <th>DDN121_Rep3_expression</th>\n",
       "      <th>DDN146_Rep1_expression</th>\n",
       "      <th>DDN146_Rep2_expression</th>\n",
       "      <th>DDN146_Rep3_expression</th>\n",
       "    </tr>\n",
       "  </thead>\n",
       "  <tbody>\n",
       "    <tr>\n",
       "      <th>11</th>\n",
       "      <td>MA_RS00060</td>\n",
       "      <td>2.991921</td>\n",
       "      <td>3.046460</td>\n",
       "      <td>3.051049</td>\n",
       "      <td>3.495374</td>\n",
       "      <td>3.097134</td>\n",
       "      <td>3.687790</td>\n",
       "      <td>3.044368</td>\n",
       "      <td>3.911412</td>\n",
       "      <td>4.515122</td>\n",
       "      <td>3.505683</td>\n",
       "      <td>3.070746</td>\n",
       "      <td>3.344965</td>\n",
       "    </tr>\n",
       "    <tr>\n",
       "      <th>141</th>\n",
       "      <td>MA_RS00790</td>\n",
       "      <td>0.742586</td>\n",
       "      <td>0.763110</td>\n",
       "      <td>0.907807</td>\n",
       "      <td>0.862242</td>\n",
       "      <td>0.923554</td>\n",
       "      <td>0.965543</td>\n",
       "      <td>1.036992</td>\n",
       "      <td>1.513853</td>\n",
       "      <td>1.704193</td>\n",
       "      <td>1.083109</td>\n",
       "      <td>1.159477</td>\n",
       "      <td>0.920982</td>\n",
       "    </tr>\n",
       "    <tr>\n",
       "      <th>146</th>\n",
       "      <td>MA_RS00820</td>\n",
       "      <td>5.443322</td>\n",
       "      <td>5.730322</td>\n",
       "      <td>5.462516</td>\n",
       "      <td>4.224349</td>\n",
       "      <td>3.931540</td>\n",
       "      <td>4.105108</td>\n",
       "      <td>2.032303</td>\n",
       "      <td>2.247768</td>\n",
       "      <td>1.996783</td>\n",
       "      <td>9.050130</td>\n",
       "      <td>9.082222</td>\n",
       "      <td>9.603266</td>\n",
       "    </tr>\n",
       "    <tr>\n",
       "      <th>164</th>\n",
       "      <td>MA_RS00920</td>\n",
       "      <td>1.274057</td>\n",
       "      <td>1.552652</td>\n",
       "      <td>1.652701</td>\n",
       "      <td>1.957446</td>\n",
       "      <td>1.435616</td>\n",
       "      <td>1.490524</td>\n",
       "      <td>1.906173</td>\n",
       "      <td>2.221504</td>\n",
       "      <td>2.067296</td>\n",
       "      <td>2.178587</td>\n",
       "      <td>1.590837</td>\n",
       "      <td>1.539200</td>\n",
       "    </tr>\n",
       "    <tr>\n",
       "      <th>223</th>\n",
       "      <td>MA_RS01240</td>\n",
       "      <td>0.824632</td>\n",
       "      <td>0.796562</td>\n",
       "      <td>0.509461</td>\n",
       "      <td>0.688995</td>\n",
       "      <td>0.823883</td>\n",
       "      <td>0.432366</td>\n",
       "      <td>1.414651</td>\n",
       "      <td>1.428151</td>\n",
       "      <td>1.969847</td>\n",
       "      <td>0.788444</td>\n",
       "      <td>1.039891</td>\n",
       "      <td>0.381540</td>\n",
       "    </tr>\n",
       "  </tbody>\n",
       "</table>\n",
       "</div>"
      ],
      "text/plain": [
       "    feature_ids  WWM60_TMA_Rep1_expression  WWM60_TMA_Rep2_expression  \\\n",
       "11   MA_RS00060                   2.991921                   3.046460   \n",
       "141  MA_RS00790                   0.742586                   0.763110   \n",
       "146  MA_RS00820                   5.443322                   5.730322   \n",
       "164  MA_RS00920                   1.274057                   1.552652   \n",
       "223  MA_RS01240                   0.824632                   0.796562   \n",
       "\n",
       "     WWM60_TMA_Rep3_expression  WWM60_MeOH_Rep1_expression  \\\n",
       "11                    3.051049                    3.495374   \n",
       "141                   0.907807                    0.862242   \n",
       "146                   5.462516                    4.224349   \n",
       "164                   1.652701                    1.957446   \n",
       "223                   0.509461                    0.688995   \n",
       "\n",
       "     WWM60_MeOH_Rep2_expression  WWM60_MeOH_Rep3_expression  \\\n",
       "11                     3.097134                    3.687790   \n",
       "141                    0.923554                    0.965543   \n",
       "146                    3.931540                    4.105108   \n",
       "164                    1.435616                    1.490524   \n",
       "223                    0.823883                    0.432366   \n",
       "\n",
       "     DDN121_Rep1_expression  DDN121_Rep2_expression  DDN121_Rep3_expression  \\\n",
       "11                 3.044368                3.911412                4.515122   \n",
       "141                1.036992                1.513853                1.704193   \n",
       "146                2.032303                2.247768                1.996783   \n",
       "164                1.906173                2.221504                2.067296   \n",
       "223                1.414651                1.428151                1.969847   \n",
       "\n",
       "     DDN146_Rep1_expression  DDN146_Rep2_expression  DDN146_Rep3_expression  \n",
       "11                 3.505683                3.070746                3.344965  \n",
       "141                1.083109                1.159477                0.920982  \n",
       "146                9.050130                9.082222                9.603266  \n",
       "164                2.178587                1.590837                1.539200  \n",
       "223                0.788444                1.039891                0.381540  "
      ]
     },
     "execution_count": 8,
     "metadata": {},
     "output_type": "execute_result"
    }
   ],
   "source": [
    "# make uag-containing transcript dataframe (print shape)\n",
    "uag_df = transcripts[transcripts['feature_ids'].isin(genes)]\n",
    "print(uag_df.shape)\n",
    "uag_df.head()"
   ]
  },
  {
   "cell_type": "code",
   "execution_count": 9,
   "id": "f134edbd-cb00-47de-b3f6-25dc69816ac2",
   "metadata": {},
   "outputs": [
    {
     "name": "stdout",
     "output_type": "stream",
     "text": [
      "(4, 13)\n"
     ]
    },
    {
     "data": {
      "text/html": [
       "<div>\n",
       "<style scoped>\n",
       "    .dataframe tbody tr th:only-of-type {\n",
       "        vertical-align: middle;\n",
       "    }\n",
       "\n",
       "    .dataframe tbody tr th {\n",
       "        vertical-align: top;\n",
       "    }\n",
       "\n",
       "    .dataframe thead th {\n",
       "        text-align: right;\n",
       "    }\n",
       "</style>\n",
       "<table border=\"1\" class=\"dataframe\">\n",
       "  <thead>\n",
       "    <tr style=\"text-align: right;\">\n",
       "      <th></th>\n",
       "      <th>feature_ids</th>\n",
       "      <th>WWM60_TMA_Rep1_expression</th>\n",
       "      <th>WWM60_TMA_Rep2_expression</th>\n",
       "      <th>WWM60_TMA_Rep3_expression</th>\n",
       "      <th>WWM60_MeOH_Rep1_expression</th>\n",
       "      <th>WWM60_MeOH_Rep2_expression</th>\n",
       "      <th>WWM60_MeOH_Rep3_expression</th>\n",
       "      <th>DDN121_Rep1_expression</th>\n",
       "      <th>DDN121_Rep2_expression</th>\n",
       "      <th>DDN121_Rep3_expression</th>\n",
       "      <th>DDN146_Rep1_expression</th>\n",
       "      <th>DDN146_Rep2_expression</th>\n",
       "      <th>DDN146_Rep3_expression</th>\n",
       "    </tr>\n",
       "  </thead>\n",
       "  <tbody>\n",
       "    <tr>\n",
       "      <th>144</th>\n",
       "      <td>MA_RS00810</td>\n",
       "      <td>4.139353</td>\n",
       "      <td>4.476920</td>\n",
       "      <td>4.298570</td>\n",
       "      <td>3.161213</td>\n",
       "      <td>2.034482</td>\n",
       "      <td>2.892552</td>\n",
       "      <td>2.663174</td>\n",
       "      <td>2.395765</td>\n",
       "      <td>2.652914</td>\n",
       "      <td>7.457873</td>\n",
       "      <td>7.683467</td>\n",
       "      <td>8.268377</td>\n",
       "    </tr>\n",
       "    <tr>\n",
       "      <th>145</th>\n",
       "      <td>MA_RS00815</td>\n",
       "      <td>4.987418</td>\n",
       "      <td>5.226584</td>\n",
       "      <td>5.232328</td>\n",
       "      <td>3.716822</td>\n",
       "      <td>3.329227</td>\n",
       "      <td>3.517945</td>\n",
       "      <td>0.000000</td>\n",
       "      <td>0.000000</td>\n",
       "      <td>0.000000</td>\n",
       "      <td>8.694005</td>\n",
       "      <td>8.778274</td>\n",
       "      <td>9.278483</td>\n",
       "    </tr>\n",
       "    <tr>\n",
       "      <th>146</th>\n",
       "      <td>MA_RS00820</td>\n",
       "      <td>5.443322</td>\n",
       "      <td>5.730322</td>\n",
       "      <td>5.462516</td>\n",
       "      <td>4.224349</td>\n",
       "      <td>3.931540</td>\n",
       "      <td>4.105108</td>\n",
       "      <td>2.032303</td>\n",
       "      <td>2.247768</td>\n",
       "      <td>1.996783</td>\n",
       "      <td>9.050130</td>\n",
       "      <td>9.082222</td>\n",
       "      <td>9.603266</td>\n",
       "    </tr>\n",
       "    <tr>\n",
       "      <th>147</th>\n",
       "      <td>MA_RS00825</td>\n",
       "      <td>5.221569</td>\n",
       "      <td>5.437206</td>\n",
       "      <td>5.385096</td>\n",
       "      <td>5.033570</td>\n",
       "      <td>4.579803</td>\n",
       "      <td>4.671564</td>\n",
       "      <td>7.280291</td>\n",
       "      <td>7.906289</td>\n",
       "      <td>7.905697</td>\n",
       "      <td>5.133447</td>\n",
       "      <td>4.805760</td>\n",
       "      <td>5.073752</td>\n",
       "    </tr>\n",
       "  </tbody>\n",
       "</table>\n",
       "</div>"
      ],
      "text/plain": [
       "    feature_ids  WWM60_TMA_Rep1_expression  WWM60_TMA_Rep2_expression  \\\n",
       "144  MA_RS00810                   4.139353                   4.476920   \n",
       "145  MA_RS00815                   4.987418                   5.226584   \n",
       "146  MA_RS00820                   5.443322                   5.730322   \n",
       "147  MA_RS00825                   5.221569                   5.437206   \n",
       "\n",
       "     WWM60_TMA_Rep3_expression  WWM60_MeOH_Rep1_expression  \\\n",
       "144                   4.298570                    3.161213   \n",
       "145                   5.232328                    3.716822   \n",
       "146                   5.462516                    4.224349   \n",
       "147                   5.385096                    5.033570   \n",
       "\n",
       "     WWM60_MeOH_Rep2_expression  WWM60_MeOH_Rep3_expression  \\\n",
       "144                    2.034482                    2.892552   \n",
       "145                    3.329227                    3.517945   \n",
       "146                    3.931540                    4.105108   \n",
       "147                    4.579803                    4.671564   \n",
       "\n",
       "     DDN121_Rep1_expression  DDN121_Rep2_expression  DDN121_Rep3_expression  \\\n",
       "144                2.663174                2.395765                2.652914   \n",
       "145                0.000000                0.000000                0.000000   \n",
       "146                2.032303                2.247768                1.996783   \n",
       "147                7.280291                7.906289                7.905697   \n",
       "\n",
       "     DDN146_Rep1_expression  DDN146_Rep2_expression  DDN146_Rep3_expression  \n",
       "144                7.457873                7.683467                8.268377  \n",
       "145                8.694005                8.778274                9.278483  \n",
       "146                9.050130                9.082222                9.603266  \n",
       "147                5.133447                4.805760                5.073752  "
      ]
     },
     "execution_count": 9,
     "metadata": {},
     "output_type": "execute_result"
    }
   ],
   "source": [
    "# make pyl dataframe (print shape)\n",
    "pyl = ['MA_RS00820', 'MA_RS00815', 'MA_RS00810', 'MA_RS00825']\n",
    "pyl_df = transcripts[transcripts['feature_ids'].isin(pyl)]\n",
    "print(pyl_df.shape)\n",
    "pyl_df.head()"
   ]
  },
  {
   "cell_type": "markdown",
   "id": "4799b2c2-4474-4c45-a1ae-69d2310e0651",
   "metadata": {},
   "source": [
    "### 2. Generate expression ratio \n",
    "For each replicate in the RNA-Seq data, generate an expression ratio (i.e. Pyl supply/Pyl demand). Note that we transform FPKM values out of the log2(FPKM)."
   ]
  },
  {
   "cell_type": "code",
   "execution_count": 16,
   "id": "48b04a8c-44c0-4f02-b730-b27ecb58d898",
   "metadata": {},
   "outputs": [
    {
     "name": "stdout",
     "output_type": "stream",
     "text": [
      "WWM60_TMA_Rep1_expression ratio:\t 0.006413164655245085\n",
      "WWM60_TMA_Rep2_expression ratio:\t 0.006308769762690296\n",
      "WWM60_TMA_Rep3_expression ratio:\t 0.005547893700122758\n"
     ]
    }
   ],
   "source": [
    "# TMA replicates\n",
    "reps_tma = {}\n",
    "reps_tma_list = []\n",
    "\n",
    "for i in range(3):\n",
    "    name = f\"WWM60_TMA_Rep{i+1}_expression\"\n",
    "    pyl_indiv = dict(zip(pyl_df['feature_ids'], 2**pyl_df[name]))\n",
    "    uag_indiv = dict(zip(uag_df['feature_ids'], 2**uag_df[name]))\n",
    "\n",
    "    pyl_value = max(pyl_indiv.values())\n",
    "    uag_sum = sum(uag_indiv.values())\n",
    "\n",
    "    print(f\"{name} ratio:\\t {pyl_value/uag_sum}\")\n",
    "    reps_tma[name] = pyl_value/uag_sum\n",
    "    reps_tma_list.append(float(pyl_value/uag_sum))"
   ]
  },
  {
   "cell_type": "code",
   "execution_count": 17,
   "id": "6cc183d1-09bf-4953-bcf5-fc76907dacce",
   "metadata": {},
   "outputs": [
    {
     "name": "stdout",
     "output_type": "stream",
     "text": [
      "WWM60_MeOH_Rep1_expression ratio:\t 0.01280020701970208\n",
      "WWM60_MeOH_Rep2_expression ratio:\t 0.011156487009686992\n",
      "WWM60_MeOH_Rep3_expression ratio:\t 0.010294800936306785\n"
     ]
    }
   ],
   "source": [
    "# MeOH replicates\n",
    "reps_meoh = {}\n",
    "reps_meoh_list = []\n",
    "\n",
    "for i in range(3):\n",
    "    name = f\"WWM60_MeOH_Rep{i+1}_expression\"\n",
    "    pyl_indiv = dict(zip(pyl_df['feature_ids'], 2**pyl_df[name]))\n",
    "    tx_indiv = dict(zip(uag_df['feature_ids'], 2**uag_df[name]))\n",
    "\n",
    "    pyl_value = max(pyl_indiv.values())\n",
    "    uag_sum = sum(tx_indiv.values())\n",
    "\n",
    "    print(f\"{name} ratio:\\t {pyl_value/uag_sum}\")\n",
    "    reps_meoh[name] = pyl_value/uag_sum\n",
    "    reps_meoh_list.append(float(pyl_value/uag_sum))\n"
   ]
  },
  {
   "cell_type": "code",
   "execution_count": 21,
   "id": "4de76d45-1b91-46b2-8428-993e5e2a9ff0",
   "metadata": {},
   "outputs": [
    {
     "name": "stdout",
     "output_type": "stream",
     "text": [
      "-6.796125993918543 0.01082949664447211\n"
     ]
    }
   ],
   "source": [
    "# t-test on the ratios for meoh v. tma\n",
    "from scipy.stats import ttest_ind\n",
    "\n",
    "tma = np.array(reps_tma_list)\n",
    "meoh = np.array(reps_meoh_list)\n",
    "\n",
    "t_statistic, p_value = stats.ttest_ind(tma, meoh, equal_var=False)\n",
    "print(t_statistic, p_value)"
   ]
  },
  {
   "cell_type": "markdown",
   "id": "91a2d765-2d3b-48ac-8d17-b645c7c076f3",
   "metadata": {},
   "source": [
    "### 3. Calculate supply ratio by demand ratio \n",
    "This is a calculated ratio for MeOH by TMA "
   ]
  },
  {
   "cell_type": "code",
   "execution_count": 49,
   "id": "17fab5d5-5e04-46f1-b217-4c9751f1fc4a",
   "metadata": {},
   "outputs": [
    {
     "name": "stdout",
     "output_type": "stream",
     "text": [
      "1:\tproduction: 0.7527528753719643\ttranscripts: 2.651503349779745\tratio: 1.9959267706050985\n",
      "2:\tproduction: 0.4504630152692365\ttranscripts: 3.9257591024940925\tratio: 1.7684092825301405\n",
      "3:\tproduction: 0.577962361972435\ttranscripts: 3.210630040640744\tratio: 1.8556233217083795\n"
     ]
    }
   ],
   "source": [
    "# for MeOH and TMA\n",
    "for i in range(3): \n",
    "    name1 = f\"WWM60_MeOH_Rep{i+1}_expression\"\n",
    "    name2 = f\"WWM60_TMA_Rep{i+1}_expression\"\n",
    "    \n",
    "    pyl_meoh = dict(zip(pyl_df['feature_ids'], 2**pyl_df[name1]))\n",
    "    tx_meoh = dict(zip(uag_df['feature_ids'], 2**uag_df[name1]))\n",
    "    \n",
    "    pyl_tma = dict(zip(pyl_df['feature_ids'], 2**pyl_df[name2]))\n",
    "    tx_tma = dict(zip(uag_df['feature_ids'], 2**uag_df[name2]))\n",
    "\n",
    "    \n",
    "    prod_tma = max(pyl_tma.values())\n",
    "    prod_meoh = max(pyl_meoh.values())\n",
    "    uag_tma = sum(tx_tma.values())\n",
    "    uag_meoh = sum(tx_meoh.values())\n",
    "\n",
    "    prod_ratio = prod_meoh/prod_tma\n",
    "    tx_ratio = uag_tma/uag_meoh\n",
    "    \n",
    "    print(f\"{i+1}:\\tproduction: {prod_ratio}\\ttranscripts: {tx_ratio}\\tratio: {prod_ratio*tx_ratio}\")\n"
   ]
  },
  {
   "cell_type": "code",
   "execution_count": null,
   "id": "b7162ed1-8e90-44f9-a47c-318fc31f1702",
   "metadata": {},
   "outputs": [],
   "source": []
  }
 ],
 "metadata": {
  "kernelspec": {
   "display_name": "Python 3 (ipykernel)",
   "language": "python",
   "name": "python3"
  },
  "language_info": {
   "codemirror_mode": {
    "name": "ipython",
    "version": 3
   },
   "file_extension": ".py",
   "mimetype": "text/x-python",
   "name": "python",
   "nbconvert_exporter": "python",
   "pygments_lexer": "ipython3",
   "version": "3.11.8"
  }
 },
 "nbformat": 4,
 "nbformat_minor": 5
}
